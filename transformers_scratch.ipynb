{
  "nbformat": 4,
  "nbformat_minor": 0,
  "metadata": {
    "colab": {
      "provenance": [],
      "authorship_tag": "ABX9TyMh+0pXfhjHuCFMkp5eJGEL",
      "include_colab_link": true
    },
    "kernelspec": {
      "name": "python3",
      "display_name": "Python 3"
    },
    "language_info": {
      "name": "python"
    }
  },
  "cells": [
    {
      "cell_type": "markdown",
      "metadata": {
        "id": "view-in-github",
        "colab_type": "text"
      },
      "source": [
        "<a href=\"https://colab.research.google.com/github/Guche02/transformer-from-scratch/blob/master/transformers_scratch.ipynb\" target=\"_parent\"><img src=\"https://colab.research.google.com/assets/colab-badge.svg\" alt=\"Open In Colab\"/></a>"
      ]
    },
    {
      "cell_type": "code",
      "execution_count": null,
      "metadata": {
        "id": "HKlCOpeoZ4I9"
      },
      "outputs": [],
      "source": [
        "import torch\n",
        "import torch.nn as nn\n",
        "import math"
      ]
    },
    {
      "cell_type": "markdown",
      "source": [
        " ## Input Embeddings: convert tokens into vector of 512 dimensions."
      ],
      "metadata": {
        "id": "pbmtC042bwkZ"
      }
    },
    {
      "cell_type": "markdown",
      "source": [
        "nn.module is the base class for all creating all the neural networks.\n",
        "\n",
        "\n",
        " The models that we create, inherit the functions from this base class such as forward() function.\n",
        "\n",
        "  super() is used to initialize the parent class ( nn.module ) by every object that is created later.  *If super() is not used that methods like nn.Embedding will not be initialzed and we will not be able to use it.*\n"
      ],
      "metadata": {
        "id": "9Af1qbPId84i"
      }
    },
    {
      "cell_type": "code",
      "source": [
        "class InputEmbeddings(nn.Module):\n",
        "  def __init__(self, d_model: int, vocab_size:int):\n",
        "    super().__init__()\n",
        "    self.d_model = d_model\n",
        "    self.vocab_size = vocab_size\n",
        "    self.embedding = nn.Embedding(num_embeddings = vocab_size, embedding_dim = d_model)\n",
        "\n",
        "  def forward(self, x):\n",
        "    return self.embedding(x) * math.sqrt(self.d_model)   # embedding is multiplied by d_model according to the original paper."
      ],
      "metadata": {
        "id": "SnajN3Urb-oQ"
      },
      "execution_count": null,
      "outputs": []
    },
    {
      "cell_type": "markdown",
      "source": [
        "## Positional Encoding: add information about position of tokens"
      ],
      "metadata": {
        "id": "DxXO1Fd9hsRr"
      }
    },
    {
      "cell_type": "markdown",
      "source": [
        "Dropout is used in positional encoding to prevent the over-reliance on the positions of tokens. Instead, the model is made to focus on the semantic relationships between the tokens.\n",
        "\n",
        " torch.arrange() is similar to range() in python.\n",
        "  \n",
        "  unsqueeze() is used to add an extra dimenion at the specified position.\n",
        "   \n",
        "  all the numbers are converted to float(), to avoid broadcasting to int by mistake during division.\n",
        "\n",
        "  register_buffer() is added to register a tensor as a buffer (part of the model but not considered a model parameter (i.e., it does not get updated during training))\n",
        "\n",
        "  requires_grad(false) means that the parameter is not updated during training.\n",
        "  "
      ],
      "metadata": {
        "id": "iZbLzZIej6yB"
      }
    },
    {
      "cell_type": "code",
      "source": [
        "class PositionalEncoding(nn.Module):\n",
        "  def __init__(self, d_model: int, seq_len: int, dropout:float):\n",
        "    super().__init__():\n",
        "    self.d_model = d_model\n",
        "    self.seq_len = seq_len\n",
        "    self.dropout = nn.Dropout(dropout)\n",
        "\n",
        "    # create a tensor (seq_len x d_model) filled with zeros as a placeholder for positional encoding\n",
        "    pe = torch.zeros(seq_len, d_model)\n",
        "\n",
        "    # numerator term of the formula for positional encoding\n",
        "    position = torch.arange(0, seq_len, dtype=torch.float).unsqueeze(1)\n",
        "\n",
        "    # denominator term of the formula\n",
        "    div_term = torch.exp(torch.arange(0, d_model, 2).float() * (-math.log(10000.0) / d_model))  # log and exp is used for numerical stability.\n",
        "\n",
        "    pe[:, 0::2] = torch.sin(position * div_term)\n",
        "    pe[:, 1::2] = torch.cos(position * div_term)\n",
        "\n",
        "    # adding a batch size dimension to positional encoding, specifying that this positional encoding is used for single ip sequence\n",
        "    pe = pe.unsqueeze(0)  # (1, seq_len, d_model)\n",
        "\n",
        "    # saving the positional encoding info as a constant buffer that is not updated during training.\n",
        "    self.register_buffer('pe', pe)\n",
        "\n",
        "  def forward(self, x):\n",
        "    # x.shape[1] gives the length of ip sequqnce.\n",
        "    x = x + (self.pe[:, :x.shape[1], :]).requires_grad_(False)\n",
        "    return self.dropout(x)"
      ],
      "metadata": {
        "id": "EtqAkr_xhhRF"
      },
      "execution_count": null,
      "outputs": []
    }
  ]
}
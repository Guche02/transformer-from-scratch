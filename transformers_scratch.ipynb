{
  "nbformat": 4,
  "nbformat_minor": 0,
  "metadata": {
    "colab": {
      "provenance": [],
      "authorship_tag": "ABX9TyN96CGf9B9pEGDN2JT/vUQD"
    },
    "kernelspec": {
      "name": "python3",
      "display_name": "Python 3"
    },
    "language_info": {
      "name": "python"
    }
  },
  "cells": [
    {
      "cell_type": "code",
      "execution_count": 1,
      "metadata": {
        "id": "HKlCOpeoZ4I9"
      },
      "outputs": [],
      "source": [
        "import torch\n",
        "import torch.nn as nn\n",
        "import math"
      ]
    },
    {
      "cell_type": "markdown",
      "source": [
        " ## Input Embeddings: convert tokens into vector of 512 dimensions."
      ],
      "metadata": {
        "id": "pbmtC042bwkZ"
      }
    },
    {
      "cell_type": "markdown",
      "source": [
        "nn.module is the base class for all creating all the neural networks.\n",
        "\n",
        "\n",
        " The models that we create, inherit the functions from this base class such as forward() function.\n",
        "\n",
        "  super() is used to initialize the parent class ( nn.module ) by every object that is created later.  *If super() is not used that methods like nn.Embedding will not be initialzed and we will not be able to use it.*\n"
      ],
      "metadata": {
        "id": "9Af1qbPId84i"
      }
    },
    {
      "cell_type": "code",
      "source": [
        "class InputEmbeddings(nn.Module):\n",
        "  def __init__(self, d_model: int, vocab_size:int):\n",
        "    super().__init__()\n",
        "    self.d_model = d_model\n",
        "    self.vocab_size = vocab_size\n",
        "    self.embedding = nn.Embedding(num_embeddings = vocab_size, embedding_dim = d_model)\n",
        "\n",
        "  def forward(self, x):\n",
        "    return self.embedding(x) * math.sqrt(self.d_model)   # embedding is multiplied by d_model according to the original paper."
      ],
      "metadata": {
        "id": "SnajN3Urb-oQ"
      },
      "execution_count": 2,
      "outputs": []
    },
    {
      "cell_type": "markdown",
      "source": [
        "## Positional Encoding: add information about position of tokens"
      ],
      "metadata": {
        "id": "DxXO1Fd9hsRr"
      }
    },
    {
      "cell_type": "markdown",
      "source": [
        "Dropout is used in positional encoding to prevent the over-reliance on the positions of tokens. Instead, the model is made to focus on the semantic relationships between the tokens.\n",
        "\n",
        " torch.arrange() is similar to range() in python.\n",
        "  \n",
        "  unsqueeze() is used to add an extra dimenion at the specified position.\n",
        "   \n",
        "  all the numbers are converted to float(), to avoid broadcasting to int by mistake during division.\n",
        "\n",
        "  register_buffer() is added to register a tensor as a buffer (part of the model but not considered a model parameter (i.e., it does not get updated during training))\n",
        "\n",
        "  requires_grad(false) means that the parameter is not updated during training.\n",
        "  "
      ],
      "metadata": {
        "id": "iZbLzZIej6yB"
      }
    },
    {
      "cell_type": "code",
      "source": [
        "class PositionalEncoding(nn.Module):\n",
        "  def __init__(self, d_model: int, seq_len: int, dropout:float):\n",
        "    super().__init__()\n",
        "    self.d_model = d_model\n",
        "    self.seq_len = seq_len\n",
        "    self.dropout = nn.Dropout(dropout)\n",
        "\n",
        "    # create a tensor (seq_len x d_model) filled with zeros as a placeholder for positional encoding\n",
        "    pe = torch.zeros(seq_len, d_model)\n",
        "\n",
        "    # numerator term of the formula for positional encoding\n",
        "    position = torch.arange(0, seq_len, dtype=torch.float).unsqueeze(1)\n",
        "\n",
        "    # denominator term of the formula\n",
        "    div_term = torch.exp(torch.arange(0, d_model, 2).float() * (-math.log(10000.0) / d_model))  # log and exp is used for numerical stability.\n",
        "\n",
        "    pe[:, 0::2] = torch.sin(position * div_term)\n",
        "    pe[:, 1::2] = torch.cos(position * div_term)\n",
        "\n",
        "    # adding a batch size dimension to positional encoding, specifying that this positional encoding is used for single ip sequence\n",
        "    pe = pe.unsqueeze(0)  # (1, seq_len, d_model)\n",
        "\n",
        "    # saving the positional encoding info as a constant buffer that is not updated during training.\n",
        "    self.register_buffer('pe', pe)\n",
        "\n",
        "  def forward(self, x):\n",
        "    # x.shape[1] gives the length of ip sequqnce.\n",
        "    x = x + (self.pe[:, :x.shape[1], :]).requires_grad_(False)\n",
        "    return self.dropout(x)"
      ],
      "metadata": {
        "id": "EtqAkr_xhhRF"
      },
      "execution_count": 3,
      "outputs": []
    },
    {
      "cell_type": "markdown",
      "source": [
        "Layer Normalization : normalizing the values across the features.\n",
        "\n",
        "layer norm = alpha * (x - mean/std) + bias\n",
        "\n",
        "-1 is used in x.mean to denote that mean is taken across last dimensions ( across the features(columns) and not the batch(rows) in this case.\n",
        "\n",
        "keep_dims is used to preserve the original dimension.\n",
        "\n",
        "nn.parameter is used to specify that the parameter is learnable during training"
      ],
      "metadata": {
        "id": "F-GFmXcyM88K"
      }
    },
    {
      "cell_type": "code",
      "source": [
        "class LayerNorm(nn.Module):\n",
        "  def __init__(self, eps):\n",
        "    super().__init__()\n",
        "    self.eps = eps\n",
        "    self.alpha = nn.Parameter(torch.ones(1))  # default initial value is chosen as 1\n",
        "    self.bias = nn.Parameter(torch.zeros(1))  # default initial value is chosen as 0\n",
        "\n",
        "  def forward(self, x):\n",
        "    mean = x.mean(-1, keepdims = True)\n",
        "    std = x.std(-1, keepdims = True)\n",
        "    return ((x - mean) / (std + self.eps)) * self.alpha + self.bias"
      ],
      "metadata": {
        "id": "H03rJqBCMJKq"
      },
      "execution_count": 5,
      "outputs": []
    },
    {
      "cell_type": "markdown",
      "source": [
        "Feed forward layer: Two linear transformations wit ReLU activation in between according to the original paper\n",
        "\n",
        "According the original paper d_ff = 2048 and d_model = 512"
      ],
      "metadata": {
        "id": "nllpZg-tloFX"
      }
    },
    {
      "cell_type": "code",
      "source": [
        "class FeedForward(nn.Module):\n",
        "  def __init__(self, d_model: int, d_ff: int, dropout: float):\n",
        "    super().__init__()\n",
        "    self.d_model = d_model\n",
        "    self.d_ff = d_ff\n",
        "    self.dropout = nn.Dropout(dropout)\n",
        "\n",
        "  def forward(self, x):\n",
        "    x = nn.Linear(self.d_model, self.d_ff)\n",
        "    x = nn.ReLU(x)\n",
        "    x = self.dropout(x)\n",
        "    x = nn.Linear(self.d_ff, self.d_model)\n",
        "    x = self.dropout(x)\n",
        "    return x"
      ],
      "metadata": {
        "id": "ERtxP_7olm4B"
      },
      "execution_count": 7,
      "outputs": []
    },
    {
      "cell_type": "markdown",
      "source": [
        "Multihead attention:"
      ],
      "metadata": {
        "id": "mKtkpQy0oVxS"
      }
    },
    {
      "cell_type": "code",
      "source": [],
      "metadata": {
        "id": "Njx3LCKMoFMK"
      },
      "execution_count": null,
      "outputs": []
    }
  ]
}